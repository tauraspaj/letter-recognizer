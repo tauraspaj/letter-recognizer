{
  "nbformat": 4,
  "nbformat_minor": 0,
  "metadata": {
    "colab": {
      "name": "Task3.ipynb",
      "provenance": []
    },
    "kernelspec": {
      "name": "python3",
      "display_name": "Python 3"
    }
  },
  "cells": [
    {
      "cell_type": "code",
      "metadata": {
        "id": "NqdvvK1oxLZT",
        "colab_type": "code",
        "colab": {
          "base_uri": "https://localhost:8080/",
          "height": 54
        },
        "outputId": "9aac3a16-8080-4c76-9a10-a875afcc0e5c"
      },
      "source": [
        "from google.colab import drive\n",
        "drive.mount('/content/drive')"
      ],
      "execution_count": null,
      "outputs": [
        {
          "output_type": "stream",
          "text": [
            "Drive already mounted at /content/drive; to attempt to forcibly remount, call drive.mount(\"/content/drive\", force_remount=True).\n"
          ],
          "name": "stdout"
        }
      ]
    },
    {
      "cell_type": "code",
      "metadata": {
        "id": "X0pV_OqIYcI4",
        "colab_type": "code",
        "colab": {}
      },
      "source": [
        "#%tensorflow_version 1.x\n",
        "import os\n",
        "import cv2\n",
        "import numpy as np\n",
        "import matplotlib.pyplot as plt\n",
        "import tensorflow as tf\n",
        "from tensorflow.keras.datasets import cifar10\n",
        "from tensorflow.keras.preprocessing.image import ImageDataGenerator\n",
        "from tensorflow.keras.models import Sequential\n",
        "from tensorflow.keras.layers import Dense, Dropout, Activation, Flatten\n",
        "from tensorflow.keras.layers import Conv2D, MaxPooling2D\n",
        "from sklearn.neighbors import KNeighborsClassifier"
      ],
      "execution_count": null,
      "outputs": []
    },
    {
      "cell_type": "code",
      "metadata": {
        "id": "sxF_eKczY3lk",
        "colab_type": "code",
        "colab": {}
      },
      "source": [
        "TRAIN_DATADIR = \"/content/drive/My Drive/Colab Notebooks/AI/signatures/train\"\n",
        "TEST_DATADIR = \"/content/drive/My Drive/Colab Notebooks/AI/signatures/test\"\n",
        "CATEGORIES = [\"tauras\", \"john\"]"
      ],
      "execution_count": null,
      "outputs": []
    },
    {
      "cell_type": "code",
      "metadata": {
        "id": "XPeKnbIkYr-6",
        "colab_type": "code",
        "colab": {
          "base_uri": "https://localhost:8080/",
          "height": 85
        },
        "outputId": "245ad94a-beec-443f-cb8b-2ff47659b7c5"
      },
      "source": [
        "training_data = []\n",
        "testing_data = []\n",
        "\n",
        "def create_training_data():\n",
        "  for category in CATEGORIES:\n",
        "    path = os.path.join(TRAIN_DATADIR, category)\n",
        "    class_num = CATEGORIES.index(category)\n",
        "    print(path)\n",
        "    for img in os.listdir(path):\n",
        "      try:\n",
        "        img_array = cv2.imread(os.path.join(path,img), cv2.IMREAD_GRAYSCALE)\n",
        "        training_data.append([img_array, class_num])\n",
        "      except Exception as e:\n",
        "        pass\n",
        "\n",
        "def create_testing_data():\n",
        "  for category in CATEGORIES:\n",
        "    path = os.path.join(TEST_DATADIR, category)\n",
        "    class_num = CATEGORIES.index(category)\n",
        "    print(path)\n",
        "    for img in os.listdir(path):\n",
        "      try:\n",
        "        img_array = cv2.imread(os.path.join(path,img), cv2.IMREAD_GRAYSCALE)\n",
        "        testing_data.append([img_array, class_num])\n",
        "      except Exception as e:\n",
        "        pass\n",
        "\n",
        "create_training_data()\n",
        "create_testing_data()"
      ],
      "execution_count": null,
      "outputs": [
        {
          "output_type": "stream",
          "text": [
            "/content/drive/My Drive/Colab Notebooks/AI/signatures/train/tauras\n",
            "/content/drive/My Drive/Colab Notebooks/AI/signatures/train/john\n",
            "/content/drive/My Drive/Colab Notebooks/AI/signatures/test/tauras\n",
            "/content/drive/My Drive/Colab Notebooks/AI/signatures/test/john\n"
          ],
          "name": "stdout"
        }
      ]
    },
    {
      "cell_type": "code",
      "metadata": {
        "id": "s_TzTbuqaNYG",
        "colab_type": "code",
        "colab": {
          "base_uri": "https://localhost:8080/",
          "height": 51
        },
        "outputId": "c08079d7-c2d9-4cf6-e92a-f0cd61adefa7"
      },
      "source": [
        "print(len(training_data))\n",
        "print(len(testing_data))"
      ],
      "execution_count": null,
      "outputs": [
        {
          "output_type": "stream",
          "text": [
            "200\n",
            "20\n"
          ],
          "name": "stdout"
        }
      ]
    },
    {
      "cell_type": "code",
      "metadata": {
        "id": "Jbm5A9BhbfKZ",
        "colab_type": "code",
        "colab": {}
      },
      "source": [
        "import random\n",
        "random.shuffle(training_data)\n",
        "random.shuffle(testing_data)"
      ],
      "execution_count": null,
      "outputs": []
    },
    {
      "cell_type": "code",
      "metadata": {
        "id": "EFmzVBQUblaO",
        "colab_type": "code",
        "colab": {}
      },
      "source": [
        "IMG_WIDTH = 100\n",
        "IMG_HEIGHT = 50\n",
        "X = []\n",
        "y = []\n",
        "X_test = []\n",
        "y_test = []\n",
        "for features,label in training_data:\n",
        "    X.append(features)\n",
        "    y.append(label)\n",
        "\n",
        "for features,label in testing_data:\n",
        "    X_test.append(features)\n",
        "    y_test.append(label)\n",
        "\n",
        "\n",
        "#print(X[0].reshape(-1, IMG_WIDTH, IMG_HEIGHT, 1))\n",
        "\n",
        "X = np.array(X).reshape(-1, IMG_WIDTH, IMG_HEIGHT, 1)\n",
        "X_test = np.array(X_test).reshape(-1, IMG_WIDTH, IMG_HEIGHT, 1)\n",
        "y = np.array(y)\n",
        "X = X/255.0\n",
        "X_test = X_test/255.0\n",
        "y_test = np.array(y_test)\n"
      ],
      "execution_count": null,
      "outputs": []
    },
    {
      "cell_type": "code",
      "metadata": {
        "id": "oGnUds3NhwFl",
        "colab_type": "code",
        "colab": {
          "base_uri": "https://localhost:8080/",
          "height": 374
        },
        "outputId": "1bc44156-c625-4c55-93f2-0752fff819e8"
      },
      "source": [
        "CNNmodel = Sequential()\n",
        "\n",
        "CNNmodel.add(Conv2D(256, (3, 3), input_shape=X.shape[1:]))\n",
        "CNNmodel.add(Activation('relu'))\n",
        "CNNmodel.add(MaxPooling2D(pool_size=(4, 4)))\n",
        "\n",
        "CNNmodel.add(Conv2D(256, (3, 3)))\n",
        "CNNmodel.add(Activation('relu'))\n",
        "CNNmodel.add(MaxPooling2D(pool_size=(4, 4)))\n",
        "\n",
        "CNNmodel.add(Flatten())  # this converts our 3D feature maps to 1D feature vectors\n",
        "\n",
        "CNNmodel.add(Dense(64))\n",
        "CNNmodel.add(Dropout(0.2)) # THIS IS TO PREVENT OVERFITTING\n",
        "CNNmodel.add(Dense(1)) \n",
        "CNNmodel.add(Activation('sigmoid'))\n",
        "\n",
        "CNNmodel.compile(loss='binary_crossentropy',\n",
        "              optimizer='adam',\n",
        "              metrics=['accuracy'])\n",
        "\n",
        "CNNmodel.fit(X, y, batch_size=32, epochs=10)"
      ],
      "execution_count": null,
      "outputs": [
        {
          "output_type": "stream",
          "text": [
            "Epoch 1/10\n",
            "7/7 [==============================] - 5s 722ms/step - loss: 0.8120 - accuracy: 0.4900\n",
            "Epoch 2/10\n",
            "7/7 [==============================] - 5s 730ms/step - loss: 0.5223 - accuracy: 0.9250\n",
            "Epoch 3/10\n",
            "7/7 [==============================] - 5s 729ms/step - loss: 0.3014 - accuracy: 0.9000\n",
            "Epoch 4/10\n",
            "7/7 [==============================] - 6s 891ms/step - loss: 0.2093 - accuracy: 0.8950\n",
            "Epoch 5/10\n",
            "7/7 [==============================] - 6s 791ms/step - loss: 0.1725 - accuracy: 0.9300\n",
            "Epoch 6/10\n",
            "7/7 [==============================] - 5s 767ms/step - loss: 0.1513 - accuracy: 0.9400\n",
            "Epoch 7/10\n",
            "7/7 [==============================] - 5s 765ms/step - loss: 0.0940 - accuracy: 0.9700\n",
            "Epoch 8/10\n",
            "7/7 [==============================] - 5s 714ms/step - loss: 0.0727 - accuracy: 0.9800\n",
            "Epoch 9/10\n",
            "7/7 [==============================] - 5s 694ms/step - loss: 0.0349 - accuracy: 0.9900\n",
            "Epoch 10/10\n",
            "7/7 [==============================] - 5s 767ms/step - loss: 0.0304 - accuracy: 1.0000\n"
          ],
          "name": "stdout"
        },
        {
          "output_type": "execute_result",
          "data": {
            "text/plain": [
              "<tensorflow.python.keras.callbacks.History at 0x7fa2100272e8>"
            ]
          },
          "metadata": {
            "tags": []
          },
          "execution_count": 24
        }
      ]
    },
    {
      "cell_type": "code",
      "metadata": {
        "id": "KRlhHsZDmIDo",
        "colab_type": "code",
        "colab": {
          "base_uri": "https://localhost:8080/",
          "height": 34
        },
        "outputId": "b2115e47-f31b-4372-a06c-7a0596b7ef79"
      },
      "source": [
        "from sklearn.svm import SVC\n",
        "X = np.array(X).reshape(-1, IMG_WIDTH*IMG_HEIGHT)\n",
        "X_test = np.array(X_test).reshape(-1, IMG_WIDTH*IMG_HEIGHT)\n",
        "\n",
        "SVCmodel = SVC(C=10)\n",
        "SVCmodel.fit(X, y)\n",
        "SVCmodel.score(X_test, y_test)"
      ],
      "execution_count": null,
      "outputs": [
        {
          "output_type": "execute_result",
          "data": {
            "text/plain": [
              "1.0"
            ]
          },
          "metadata": {
            "tags": []
          },
          "execution_count": 25
        }
      ]
    },
    {
      "cell_type": "code",
      "metadata": {
        "id": "wCOOBWdzoOiP",
        "colab_type": "code",
        "colab": {
          "base_uri": "https://localhost:8080/",
          "height": 34
        },
        "outputId": "1ab0ef17-fcea-4835-def2-704815f1f34c"
      },
      "source": [
        "knn_clf = KNeighborsClassifier(n_jobs=-1, weights='distance', n_neighbors=40)\n",
        "knn_clf.fit(X, y)\n",
        "\n",
        "y_knn_pred = knn_clf.predict(X_test)\n",
        "from sklearn.metrics import accuracy_score\n",
        "accuracy_score(y_test, y_knn_pred)"
      ],
      "execution_count": null,
      "outputs": [
        {
          "output_type": "execute_result",
          "data": {
            "text/plain": [
              "1.0"
            ]
          },
          "metadata": {
            "tags": []
          },
          "execution_count": 39
        }
      ]
    },
    {
      "cell_type": "code",
      "metadata": {
        "id": "1tLDH5PCnLka",
        "colab_type": "code",
        "colab": {
          "base_uri": "https://localhost:8080/",
          "height": 34
        },
        "outputId": "eeded80b-da80-4bd2-9623-07a593097186"
      },
      "source": [
        "from sklearn.model_selection import cross_val_score\n",
        "\n",
        "cross_val_score(knn_clf, X, y, cv=3, scoring=\"accuracy\")"
      ],
      "execution_count": null,
      "outputs": [
        {
          "output_type": "execute_result",
          "data": {
            "text/plain": [
              "array([0.95522388, 0.97014925, 1.        ])"
            ]
          },
          "metadata": {
            "tags": []
          },
          "execution_count": 40
        }
      ]
    },
    {
      "cell_type": "code",
      "metadata": {
        "id": "pj__mW_6oVOB",
        "colab_type": "code",
        "colab": {
          "base_uri": "https://localhost:8080/",
          "height": 51
        },
        "outputId": "d4a40d78-6306-4127-e84a-433419d4641d"
      },
      "source": [
        "from sklearn.model_selection import cross_val_predict\n",
        "from sklearn.metrics import confusion_matrix\n",
        "\n",
        "y_train_pred = cross_val_predict(knn_clf, X, y, cv=3)\n",
        "conf_mx = confusion_matrix(y, y_train_pred)\n",
        "conf_mx"
      ],
      "execution_count": null,
      "outputs": [
        {
          "output_type": "execute_result",
          "data": {
            "text/plain": [
              "array([[100,   0],\n",
              "       [  5,  95]])"
            ]
          },
          "metadata": {
            "tags": []
          },
          "execution_count": 41
        }
      ]
    },
    {
      "cell_type": "code",
      "metadata": {
        "id": "9PbBOuxVp6sW",
        "colab_type": "code",
        "colab": {
          "base_uri": "https://localhost:8080/",
          "height": 34
        },
        "outputId": "17fa2f45-8636-4f4e-ad84-5cc932149ec8"
      },
      "source": [
        "from sklearn.metrics import precision_score, recall_score\n",
        "\n",
        "precision_score(y, y_train_pred)"
      ],
      "execution_count": null,
      "outputs": [
        {
          "output_type": "execute_result",
          "data": {
            "text/plain": [
              "1.0"
            ]
          },
          "metadata": {
            "tags": []
          },
          "execution_count": 42
        }
      ]
    },
    {
      "cell_type": "code",
      "metadata": {
        "id": "KbXwQnMSqBTC",
        "colab_type": "code",
        "colab": {
          "base_uri": "https://localhost:8080/",
          "height": 34
        },
        "outputId": "3b75994f-8191-49cf-c6c3-9c863672c547"
      },
      "source": [
        "recall_score(y, y_train_pred)"
      ],
      "execution_count": null,
      "outputs": [
        {
          "output_type": "execute_result",
          "data": {
            "text/plain": [
              "0.95"
            ]
          },
          "metadata": {
            "tags": []
          },
          "execution_count": 43
        }
      ]
    },
    {
      "cell_type": "code",
      "metadata": {
        "id": "NmmRFI-nqETt",
        "colab_type": "code",
        "colab": {
          "base_uri": "https://localhost:8080/",
          "height": 34
        },
        "outputId": "87c282bc-c2df-4172-a225-6b033cc2ca8c"
      },
      "source": [
        "from sklearn.metrics import f1_score\n",
        "f1_score(y, y_train_pred)"
      ],
      "execution_count": null,
      "outputs": [
        {
          "output_type": "execute_result",
          "data": {
            "text/plain": [
              "0.9743589743589743"
            ]
          },
          "metadata": {
            "tags": []
          },
          "execution_count": 44
        }
      ]
    },
    {
      "cell_type": "code",
      "metadata": {
        "id": "_0fOMWwXqHYx",
        "colab_type": "code",
        "colab": {
          "base_uri": "https://localhost:8080/",
          "height": 447
        },
        "outputId": "0179a71d-ccde-4545-fefe-686586600d3d"
      },
      "source": [
        "def plot_roc_curve(fpr, tpr, label=None):\n",
        "    plt.plot(fpr, tpr, linewidth=2, label=label)\n",
        "    plt.plot([0, 1.1], [0, 1.1], 'k--')\n",
        "    plt.axis([0, 1.1, 0, 1.1])\n",
        "    plt.xlabel('False Positive Rate', fontsize=16)\n",
        "    plt.ylabel('True Positive Rate', fontsize=16)\n",
        "\n",
        "from sklearn.model_selection import cross_val_predict\n",
        "fpr_knn, tpr_knn, thresholds_knn = metrics.roc_curve(y, y_scores_knn, pos_label=2)\n",
        "\n",
        "from sklearn.metrics import roc_curve\n",
        "y_scores_knn = y_probas_knn[:, 1] # score = proba of positive class\n",
        "fpr_knn, tpr_knn, thresholds_knn = roc_curve(y,y_scores_knn)\n",
        "\n",
        "plt.figure(figsize=(8, 6))\n",
        "plot_roc_curve(fpr_knn, tpr_knn, \"KNN\")\n",
        "plt.legend(loc=\"lower right\", fontsize=16)\n",
        "plt.show()\n"
      ],
      "execution_count": null,
      "outputs": [
        {
          "output_type": "stream",
          "text": [
            "/usr/local/lib/python3.6/dist-packages/sklearn/metrics/_ranking.py:808: UndefinedMetricWarning: No positive samples in y_true, true positive value should be meaningless\n",
            "  UndefinedMetricWarning)\n"
          ],
          "name": "stderr"
        },
        {
          "output_type": "display_data",
          "data": {
            "image/png": "[encoded data removed]",
            "text/plain": [
              "<Figure size 576x432 with 1 Axes>"
            ]
          },
          "metadata": {
            "tags": [],
            "needs_background": "light"
          }
        }
      ]
    },
    {
      "cell_type": "code",
      "metadata": {
        "id": "5mIfhRZseUh6",
        "colab_type": "code",
        "colab": {
          "base_uri": "https://localhost:8080/",
          "height": 51
        },
        "outputId": "757c8cfd-3afd-4d35-bc4b-b359e24fa29c"
      },
      "source": [
        "def prepare(filepath):\n",
        "  img_array = cv2.imread(filepath, cv2.IMREAD_GRAYSCALE)\n",
        "  new_array = cv2.resize(img_array, (IMG_WIDTH, IMG_HEIGHT))\n",
        "  return new_array.reshape(-1, IMG_WIDTH, IMG_HEIGHT, 1)\n",
        "\n",
        "prediction = CNNmodel.predict([prepare('/content/drive/My Drive/Colab Notebooks/AI/signatures/test/tauras/1.png')])\n",
        "print(CATEGORIES[int(prediction[0][0])])\n",
        "\n",
        "prediction = CNNmodel.predict([prepare('/content/drive/My Drive/Colab Notebooks/AI/signatures/test/john/1.png')])\n",
        "print(CATEGORIES[int(prediction[0][0])])"
      ],
      "execution_count": null,
      "outputs": [
        {
          "output_type": "stream",
          "text": [
            "tauras\n",
            "john\n"
          ],
          "name": "stdout"
        }
      ]
    }
  ]
}