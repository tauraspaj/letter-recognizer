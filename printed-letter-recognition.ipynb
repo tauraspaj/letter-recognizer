{
  "nbformat": 4,
  "nbformat_minor": 0,
  "metadata": {
    "colab": {
      "name": "Task1.ipynb",
      "provenance": [],
      "collapsed_sections": []
    },
    "kernelspec": {
      "name": "python3",
      "display_name": "Python 3"
    }
  },
  "cells": [
    {
      "cell_type": "code",
      "metadata": {
        "id": "hU_ykNIZ9cfm",
        "colab_type": "code",
        "colab": {
          "base_uri": "https://localhost:8080/",
          "height": 122
        },
        "outputId": "22aacbfd-4516-4a38-c0ad-458632939be4"
      },
      "source": [
        "from google.colab import drive\n",
        "drive.mount('/content/drive')"
      ],
      "execution_count": 1,
      "outputs": [
        {
          "output_type": "stream",
          "text": [
            "Go to this URL in a browser: https://accounts.google.com/o/oauth2/auth?client_id=947318989803-6bn6qk8qdgf4n4g3pfee6491hc0brc4i.apps.googleusercontent.com&redirect_uri=urn%3aietf%3awg%3aoauth%3a2.0%3aoob&response_type=code&scope=email%20https%3a%2f%2fwww.googleapis.com%2fauth%2fdocs.test%20https%3a%2f%2fwww.googleapis.com%2fauth%2fdrive%20https%3a%2f%2fwww.googleapis.com%2fauth%2fdrive.photos.readonly%20https%3a%2f%2fwww.googleapis.com%2fauth%2fpeopleapi.readonly\n",
            "\n",
            "Enter your authorization code:\n",
            "··········\n",
            "Mounted at /content/drive\n"
          ],
          "name": "stdout"
        }
      ]
    },
    {
      "cell_type": "code",
      "metadata": {
        "id": "_8C76SGZgQsY",
        "colab_type": "code",
        "colab": {
          "base_uri": "https://localhost:8080/",
          "height": 238
        },
        "outputId": "a08d7b4f-ff56-47f0-bb87-9084ebd5a9cf"
      },
      "source": [
        "!pip install scipy==1.1.0"
      ],
      "execution_count": 2,
      "outputs": [
        {
          "output_type": "stream",
          "text": [
            "Collecting scipy==1.1.0\n",
            "\u001b[?25l  Downloading https://files.pythonhosted.org/packages/a8/0b/f163da98d3a01b3e0ef1cab8dd2123c34aee2bafbb1c5bffa354cc8a1730/scipy-1.1.0-cp36-cp36m-manylinux1_x86_64.whl (31.2MB)\n",
            "\u001b[K     |████████████████████████████████| 31.2MB 141kB/s \n",
            "\u001b[?25hRequirement already satisfied: numpy>=1.8.2 in /usr/local/lib/python3.6/dist-packages (from scipy==1.1.0) (1.18.5)\n",
            "\u001b[31mERROR: umap-learn 0.4.4 has requirement scipy>=1.3.1, but you'll have scipy 1.1.0 which is incompatible.\u001b[0m\n",
            "\u001b[31mERROR: tensorflow 2.2.0 has requirement scipy==1.4.1; python_version >= \"3\", but you'll have scipy 1.1.0 which is incompatible.\u001b[0m\n",
            "\u001b[31mERROR: plotnine 0.6.0 has requirement scipy>=1.2.0, but you'll have scipy 1.1.0 which is incompatible.\u001b[0m\n",
            "\u001b[31mERROR: albumentations 0.1.12 has requirement imgaug<0.2.7,>=0.2.5, but you'll have imgaug 0.2.9 which is incompatible.\u001b[0m\n",
            "Installing collected packages: scipy\n",
            "  Found existing installation: scipy 1.4.1\n",
            "    Uninstalling scipy-1.4.1:\n",
            "      Successfully uninstalled scipy-1.4.1\n",
            "Successfully installed scipy-1.1.0\n"
          ],
          "name": "stdout"
        }
      ]
    },
    {
      "cell_type": "code",
      "metadata": {
        "id": "2ygq85Y7Anps",
        "colab_type": "code",
        "colab": {
          "base_uri": "https://localhost:8080/",
          "height": 34
        },
        "outputId": "12ff241d-595b-4964-cac8-4a95c694cd9e"
      },
      "source": [
        "#%tensorflow_version 1.x\n",
        "import os\n",
        "import cv2\n",
        "import numpy as np\n",
        "import matplotlib.pyplot as plt\n",
        "import tensorflow as tf\n",
        "from tensorflow.keras.models import Sequential\n",
        "from tensorflow.keras.layers import Dense, Dropout, Activation, Flatten, Conv2D, MaxPooling2D\n",
        "from sklearn.neighbors import KNeighborsClassifier\n",
        "\n",
        "tf.__version__"
      ],
      "execution_count": 3,
      "outputs": [
        {
          "output_type": "execute_result",
          "data": {
            "text/plain": [
              "'2.2.0'"
            ]
          },
          "metadata": {
            "tags": []
          },
          "execution_count": 3
        }
      ]
    },
    {
      "cell_type": "markdown",
      "metadata": {
        "id": "sllfoQ9hYUY9",
        "colab_type": "text"
      },
      "source": [
        "# ENGLISH DATA SET"
      ]
    },
    {
      "cell_type": "code",
      "metadata": {
        "id": "8y-Z18k4ESuC",
        "colab_type": "code",
        "colab": {}
      },
      "source": [
        "DATADIR = \"/content/drive/My Drive/Colab Notebooks/AI/training_type/\"\n",
        "CATEGORIES = \"abcdefghijklmnopqrstuvwxyz123456789\""
      ],
      "execution_count": 4,
      "outputs": []
    },
    {
      "cell_type": "code",
      "metadata": {
        "id": "AcKW0JZSInPN",
        "colab_type": "code",
        "colab": {
          "base_uri": "https://localhost:8080/",
          "height": 612
        },
        "outputId": "9250e94d-985e-45af-bf36-654b859bb9b0"
      },
      "source": [
        "IMG_SIZE = 20\n",
        "training_data = []\n",
        "\n",
        "def create_training_data():\n",
        "  for category in CATEGORIES:\n",
        "    path = os.path.join(DATADIR, category)\n",
        "    class_num = CATEGORIES.index(category)\n",
        "    print(path)\n",
        "    for img in os.listdir(path):\n",
        "      try:\n",
        "        img_array = cv2.imread(os.path.join(path,img), cv2.IMREAD_GRAYSCALE)\n",
        "        resized_img_array = cv2.resize(img_array, (IMG_SIZE, IMG_SIZE))\n",
        "        training_data.append([resized_img_array, class_num])\n",
        "      except Exception as e:\n",
        "        pass\n",
        "\n",
        "create_training_data()\n"
      ],
      "execution_count": 5,
      "outputs": [
        {
          "output_type": "stream",
          "text": [
            "/content/drive/My Drive/Colab Notebooks/AI/training_type/a\n",
            "/content/drive/My Drive/Colab Notebooks/AI/training_type/b\n",
            "/content/drive/My Drive/Colab Notebooks/AI/training_type/c\n",
            "/content/drive/My Drive/Colab Notebooks/AI/training_type/d\n",
            "/content/drive/My Drive/Colab Notebooks/AI/training_type/e\n",
            "/content/drive/My Drive/Colab Notebooks/AI/training_type/f\n",
            "/content/drive/My Drive/Colab Notebooks/AI/training_type/g\n",
            "/content/drive/My Drive/Colab Notebooks/AI/training_type/h\n",
            "/content/drive/My Drive/Colab Notebooks/AI/training_type/i\n",
            "/content/drive/My Drive/Colab Notebooks/AI/training_type/j\n",
            "/content/drive/My Drive/Colab Notebooks/AI/training_type/k\n",
            "/content/drive/My Drive/Colab Notebooks/AI/training_type/l\n",
            "/content/drive/My Drive/Colab Notebooks/AI/training_type/m\n",
            "/content/drive/My Drive/Colab Notebooks/AI/training_type/n\n",
            "/content/drive/My Drive/Colab Notebooks/AI/training_type/o\n",
            "/content/drive/My Drive/Colab Notebooks/AI/training_type/p\n",
            "/content/drive/My Drive/Colab Notebooks/AI/training_type/q\n",
            "/content/drive/My Drive/Colab Notebooks/AI/training_type/r\n",
            "/content/drive/My Drive/Colab Notebooks/AI/training_type/s\n",
            "/content/drive/My Drive/Colab Notebooks/AI/training_type/t\n",
            "/content/drive/My Drive/Colab Notebooks/AI/training_type/u\n",
            "/content/drive/My Drive/Colab Notebooks/AI/training_type/v\n",
            "/content/drive/My Drive/Colab Notebooks/AI/training_type/w\n",
            "/content/drive/My Drive/Colab Notebooks/AI/training_type/x\n",
            "/content/drive/My Drive/Colab Notebooks/AI/training_type/y\n",
            "/content/drive/My Drive/Colab Notebooks/AI/training_type/z\n",
            "/content/drive/My Drive/Colab Notebooks/AI/training_type/1\n",
            "/content/drive/My Drive/Colab Notebooks/AI/training_type/2\n",
            "/content/drive/My Drive/Colab Notebooks/AI/training_type/3\n",
            "/content/drive/My Drive/Colab Notebooks/AI/training_type/4\n",
            "/content/drive/My Drive/Colab Notebooks/AI/training_type/5\n",
            "/content/drive/My Drive/Colab Notebooks/AI/training_type/6\n",
            "/content/drive/My Drive/Colab Notebooks/AI/training_type/7\n",
            "/content/drive/My Drive/Colab Notebooks/AI/training_type/8\n",
            "/content/drive/My Drive/Colab Notebooks/AI/training_type/9\n"
          ],
          "name": "stdout"
        }
      ]
    },
    {
      "cell_type": "code",
      "metadata": {
        "id": "-Kzhp9TnQRCd",
        "colab_type": "code",
        "colab": {}
      },
      "source": [
        "import random\n",
        "random.shuffle(training_data)"
      ],
      "execution_count": 6,
      "outputs": []
    },
    {
      "cell_type": "code",
      "metadata": {
        "id": "0GxYtZQPTyfz",
        "colab_type": "code",
        "colab": {}
      },
      "source": [
        "X = []\n",
        "y = []"
      ],
      "execution_count": 7,
      "outputs": []
    },
    {
      "cell_type": "code",
      "metadata": {
        "id": "RDUQwn4yTz9B",
        "colab_type": "code",
        "colab": {}
      },
      "source": [
        "for features, label in training_data:\n",
        "  X = np.append(X,features)\n",
        "  y = np.append(y,label)\n",
        "\n",
        "X = np.array(X).reshape(-1, 20*20)\n",
        "y = y.astype(int)"
      ],
      "execution_count": 8,
      "outputs": []
    },
    {
      "cell_type": "code",
      "metadata": {
        "id": "MvrKh8gAmXCj",
        "colab_type": "code",
        "colab": {}
      },
      "source": [
        "X = X/255"
      ],
      "execution_count": 9,
      "outputs": []
    },
    {
      "cell_type": "markdown",
      "metadata": {
        "id": "DjdDVv2bhK5x",
        "colab_type": "text"
      },
      "source": [
        "# KNN"
      ]
    },
    {
      "cell_type": "code",
      "metadata": {
        "id": "mHS91Rz_sAvL",
        "colab_type": "code",
        "colab": {}
      },
      "source": [
        "from sklearn.model_selection import train_test_split\n",
        "\n",
        "X_train, X_test, y_train, y_test = train_test_split(X,y,test_size=0.1)"
      ],
      "execution_count": 10,
      "outputs": []
    },
    {
      "cell_type": "code",
      "metadata": {
        "id": "EQKc5ip277Zl",
        "colab_type": "code",
        "colab": {
          "base_uri": "https://localhost:8080/",
          "height": 34
        },
        "outputId": "43c9d561-8657-4a0f-8429-8749f4b777cb"
      },
      "source": [
        "import math\n",
        "math.sqrt(len(y_test))"
      ],
      "execution_count": 11,
      "outputs": [
        {
          "output_type": "execute_result",
          "data": {
            "text/plain": [
              "16.583123951777"
            ]
          },
          "metadata": {
            "tags": []
          },
          "execution_count": 11
        }
      ]
    },
    {
      "cell_type": "code",
      "metadata": {
        "id": "Po6J3o4JVnTu",
        "colab_type": "code",
        "colab": {
          "base_uri": "https://localhost:8080/",
          "height": 34
        },
        "outputId": "f19d8aab-048d-42ad-8720-96f0cd89b7d0"
      },
      "source": [
        "knn_clf = KNeighborsClassifier(n_jobs=-1, weights='distance', n_neighbors=13)\n",
        "knn_clf.fit(X_train, y_train)\n",
        "\n",
        "y_knn_pred = knn_clf.predict(X_test)\n",
        "from sklearn.metrics import accuracy_score\n",
        "accuracy_score(y_test, y_knn_pred)"
      ],
      "execution_count": 12,
      "outputs": [
        {
          "output_type": "execute_result",
          "data": {
            "text/plain": [
              "0.850909090909091"
            ]
          },
          "metadata": {
            "tags": []
          },
          "execution_count": 12
        }
      ]
    },
    {
      "cell_type": "code",
      "metadata": {
        "id": "t6FrqDcT-wN5",
        "colab_type": "code",
        "colab": {}
      },
      "source": [
        "#some_digit = X[2734]\n",
        "#knn_clf.predict([some_digit])"
      ],
      "execution_count": 13,
      "outputs": []
    },
    {
      "cell_type": "code",
      "metadata": {
        "id": "xApF1oTN9ylO",
        "colab_type": "code",
        "colab": {
          "base_uri": "https://localhost:8080/",
          "height": 136
        },
        "outputId": "248de122-74f9-44fc-829c-3a4c97f23c22"
      },
      "source": [
        "from sklearn.model_selection import cross_val_predict\n",
        "from sklearn.metrics import confusion_matrix\n",
        "\n",
        "y_train_pred = cross_val_predict(knn_clf, X_train, y_train, cv=3)\n",
        "conf_mx = confusion_matrix(y_train, y_train_pred)\n",
        "conf_mx"
      ],
      "execution_count": 14,
      "outputs": [
        {
          "output_type": "execute_result",
          "data": {
            "text/plain": [
              "array([[62,  0,  1, ...,  0,  0,  0],\n",
              "       [ 0, 73,  1, ...,  0,  2,  0],\n",
              "       [ 0,  0, 78, ...,  0,  0,  0],\n",
              "       ...,\n",
              "       [ 0,  0,  0, ..., 36,  0,  0],\n",
              "       [ 0,  1,  0, ...,  0, 36,  0],\n",
              "       [ 0,  0,  0, ...,  0,  0, 35]])"
            ]
          },
          "metadata": {
            "tags": []
          },
          "execution_count": 14
        }
      ]
    },
    {
      "cell_type": "code",
      "metadata": {
        "id": "NJl9UWT_21q2",
        "colab_type": "code",
        "colab": {
          "base_uri": "https://localhost:8080/",
          "height": 479
        },
        "outputId": "69841d65-fce6-4e86-a201-d96913c4668f"
      },
      "source": [
        "import seaborn as sn\n",
        "import pandas as pd\n",
        "\n",
        "df_cm = pd.DataFrame(conf_mx, index = [i for i in \"abcdefghijklmnopqrstuvwxyz123456789\"],\n",
        "                  columns = [i for i in \"abcdefghijklmnopqrstuvwxyz123456789\"])\n",
        "plt.figure(figsize = (10,7))\n",
        "sn.heatmap(df_cm, annot=True)"
      ],
      "execution_count": 15,
      "outputs": [
        {
          "output_type": "stream",
          "text": [
            "/usr/local/lib/python3.6/dist-packages/statsmodels/tools/_testing.py:19: FutureWarning: pandas.util.testing is deprecated. Use the functions in the public API at pandas.testing instead.\n",
            "  import pandas.util.testing as tm\n"
          ],
          "name": "stderr"
        },
        {
          "output_type": "execute_result",
          "data": {
            "text/plain": [
              "<matplotlib.axes._subplots.AxesSubplot at 0x7f51bfb65eb8>"
            ]
          },
          "metadata": {
            "tags": []
          },
          "execution_count": 15
        },
        {
          "output_type": "display_data",
          "data": {
            "image/png": "[encoded data removed]",
            "text/plain": [
              "<Figure size 720x504 with 2 Axes>"
            ]
          },
          "metadata": {
            "tags": [],
            "needs_background": "light"
          }
        }
      ]
    },
    {
      "cell_type": "markdown",
      "metadata": {
        "id": "7qejl2-vhQQ5",
        "colab_type": "text"
      },
      "source": [
        "# SVM"
      ]
    },
    {
      "cell_type": "code",
      "metadata": {
        "id": "oSWHcTwKDOCM",
        "colab_type": "code",
        "colab": {}
      },
      "source": [
        "X_train, X_test, y_train, y_test = train_test_split(X,y,test_size=0.1)"
      ],
      "execution_count": 16,
      "outputs": []
    },
    {
      "cell_type": "code",
      "metadata": {
        "id": "hhKYHRo7ill1",
        "colab_type": "code",
        "colab": {
          "base_uri": "https://localhost:8080/",
          "height": 34
        },
        "outputId": "c04a23ca-b531-4fc7-f721-a0d429d7fe19"
      },
      "source": [
        "from sklearn.svm import SVC\n",
        "#Uncomment the following to test SVC with many different cost values\n",
        "#for i in range (1, 101, 5):\n",
        "#  model_SVC = SVC(C=i)\n",
        "#  model_SVC.fit(X_train, y_train)\n",
        "#  acc = model_SVC.score(X_test, y_test)\n",
        "#  print (i, \"-\", acc)\n",
        "\n",
        "\n",
        "model_SVM = SVC(C=10)\n",
        "model_SVM.fit(X_train, y_train)\n",
        "model_SVM.score(X_test, y_test)"
      ],
      "execution_count": 17,
      "outputs": [
        {
          "output_type": "execute_result",
          "data": {
            "text/plain": [
              "0.9127272727272727"
            ]
          },
          "metadata": {
            "tags": []
          },
          "execution_count": 17
        }
      ]
    },
    {
      "cell_type": "code",
      "metadata": {
        "id": "F2iRNSgc90cF",
        "colab_type": "code",
        "colab": {
          "base_uri": "https://localhost:8080/",
          "height": 136
        },
        "outputId": "4ebef901-e10c-4e8c-9e68-cf3533032be0"
      },
      "source": [
        "y_svm_pred = model_SVM.predict(X_test)\n",
        "\n",
        "y_train_pred = cross_val_predict(model_SVM, X_train, y_train, cv=3)\n",
        "conf_mx = confusion_matrix(y_train, y_train_pred)\n",
        "conf_mx"
      ],
      "execution_count": 18,
      "outputs": [
        {
          "output_type": "execute_result",
          "data": {
            "text/plain": [
              "array([[69,  0,  0, ...,  0,  0,  0],\n",
              "       [ 0, 78,  0, ...,  0,  0,  0],\n",
              "       [ 0,  0, 84, ...,  0,  0,  0],\n",
              "       ...,\n",
              "       [ 0,  0,  0, ..., 35,  0,  0],\n",
              "       [ 0,  1,  0, ...,  0, 42,  0],\n",
              "       [ 0,  0,  0, ...,  0,  0, 31]])"
            ]
          },
          "metadata": {
            "tags": []
          },
          "execution_count": 18
        }
      ]
    },
    {
      "cell_type": "code",
      "metadata": {
        "id": "hyc5TS0E4iDy",
        "colab_type": "code",
        "colab": {
          "base_uri": "https://localhost:8080/",
          "height": 445
        },
        "outputId": "15f68ff1-fbb4-4d03-bd30-1ea459f91134"
      },
      "source": [
        "df_cm = pd.DataFrame(conf_mx, index = [i for i in \"abcdefghijklmnopqrstuvwxyz123456789\"],\n",
        "                  columns = [i for i in \"abcdefghijklmnopqrstuvwxyz123456789\"])\n",
        "plt.figure(figsize = (10,7))\n",
        "sn.heatmap(df_cm, annot=True)"
      ],
      "execution_count": 19,
      "outputs": [
        {
          "output_type": "execute_result",
          "data": {
            "text/plain": [
              "<matplotlib.axes._subplots.AxesSubplot at 0x7f51c3a65c18>"
            ]
          },
          "metadata": {
            "tags": []
          },
          "execution_count": 19
        },
        {
          "output_type": "display_data",
          "data": {
            "image/png": "[encoded data removed]",
            "text/plain": [
              "<Figure size 720x504 with 2 Axes>"
            ]
          },
          "metadata": {
            "tags": [],
            "needs_background": "light"
          }
        }
      ]
    },
    {
      "cell_type": "markdown",
      "metadata": {
        "id": "dA9ZG7vp2LLb",
        "colab_type": "text"
      },
      "source": [
        "# Letter prediction using the SVM model"
      ]
    },
    {
      "cell_type": "code",
      "metadata": {
        "id": "YA4lOSDRYNJm",
        "colab_type": "code",
        "colab": {}
      },
      "source": [
        "#print(CATEGORIES[model_SVM.predict(i)[0]])"
      ],
      "execution_count": 20,
      "outputs": []
    }
  ]
}